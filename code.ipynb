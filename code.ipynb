{
 "cells": [
  {
   "cell_type": "code",
   "execution_count": 1,
   "id": "a1969f2c",
   "metadata": {},
   "outputs": [],
   "source": [
    "#   Import Libraries\n",
    "import pandas as pd\n",
    "import numpy as np\n",
    "import matplotlib.pyplot as plt\n",
    "import seaborn as sns\n",
    "from sklearn.preprocessing import StandardScaler\n",
    "from sklearn.cluster import KMeans\n",
    "from sklearn.decomposition import PCA\n",
    "from sklearn.metrics import silhouette_score\n",
    "import datetime as dt\n",
    "import warnings\n",
    "warnings.filterwarnings('ignore')\n",
    "\n",
    "# Set style for visualizations\n",
    "plt.style.use('seaborn-v0_8-whitegrid')\n",
    "sns.set_palette('viridis')\n",
    "plt.rcParams['figure.figsize'] = (12, 8)\n",
    "plt.rcParams['font.size'] = 12"
   ]
  },
  {
   "cell_type": "code",
   "execution_count": 3,
   "id": "43f20634",
   "metadata": {},
   "outputs": [
    {
     "name": "stdout",
     "output_type": "stream",
     "text": [
      "Loading datasets...\n",
      "Data loaded successfully!\n",
      "\n",
      "--- Customer Loyalty History ---\n",
      "Shape: (16737, 16)\n",
      "   Loyalty Number Country          Province       City Postal Code  Gender  \\\n",
      "0          480934  Canada           Ontario    Toronto     M2Z 4K1  Female   \n",
      "1          549612  Canada           Alberta   Edmonton     T3G 6Y6    Male   \n",
      "2          429460  Canada  British Columbia  Vancouver     V6E 3D9    Male   \n",
      "3          608370  Canada           Ontario    Toronto     P1W 1K4    Male   \n",
      "4          530508  Canada            Quebec       Hull     J8Y 3Z5    Male   \n",
      "\n",
      "  Education    Salary Marital Status Loyalty Card      CLV Enrollment Type  \\\n",
      "0  Bachelor   83236.0        Married         Star  3839.14        Standard   \n",
      "1   College       NaN       Divorced         Star  3839.61        Standard   \n",
      "2   College       NaN         Single         Star  3839.75        Standard   \n",
      "3   College       NaN         Single         Star  3839.75        Standard   \n",
      "4  Bachelor  103495.0        Married         Star  3842.79        Standard   \n",
      "\n",
      "   Enrollment Year  Enrollment Month  Cancellation Year  Cancellation Month  \n",
      "0             2016                 2                NaN                 NaN  \n",
      "1             2016                 3                NaN                 NaN  \n",
      "2             2014                 7             2018.0                 1.0  \n",
      "3             2013                 2                NaN                 NaN  \n",
      "4             2014                10                NaN                 NaN  \n",
      "\n",
      "--- Customer Flight Activity ---\n",
      "Shape: (392936, 8)\n",
      "   Loyalty Number  Year  Month  Total Flights  Distance  Points Accumulated  \\\n",
      "0          100590  2018      6             12     15276             22914.0   \n",
      "1          100590  2018      7             12      9168             13752.0   \n",
      "2          100590  2018      5              4      6504              9756.0   \n",
      "3          100590  2018     10              0         0                 0.0   \n",
      "4          100590  2018      2              0         0                 0.0   \n",
      "\n",
      "   Points Redeemed  Dollar Cost Points Redeemed  \n",
      "0                0                            0  \n",
      "1                0                            0  \n",
      "2                0                            0  \n",
      "3              512                           92  \n",
      "4                0                            0  \n",
      "\n",
      "--- Calendar ---\n",
      "Shape: (2557, 4)\n",
      "         Date Start of Year Start of Quarter Start of Month\n",
      "0  2012-01-01    2012-01-01       2012-01-01     2012-01-01\n",
      "1  2012-01-02    2012-01-01       2012-01-01     2012-01-01\n",
      "2  2012-01-03    2012-01-01       2012-01-01     2012-01-01\n",
      "3  2012-01-04    2012-01-01       2012-01-01     2012-01-01\n",
      "4  2012-01-05    2012-01-01       2012-01-01     2012-01-01\n"
     ]
    }
   ],
   "source": [
    "# Load the datasets\n",
    "print(\"Loading datasets...\")\n",
    "\n",
    "try:\n",
    "    loyalty_history = pd.read_csv('Customer Loyalty History.csv')\n",
    "    flight_activity = pd.read_csv('Customer Flight Activity.csv')\n",
    "    calendar = pd.read_csv('Calendar.csv')\n",
    "    \n",
    "    print(\"Data loaded successfully!\")\n",
    "except Exception as e:\n",
    "    print(f\"Error loading data: {e}\")\n",
    "\n",
    "# Display basic information about the datasets\n",
    "print(\"\\n--- Customer Loyalty History ---\")\n",
    "print(f\"Shape: {loyalty_history.shape}\")\n",
    "print(loyalty_history.head())\n",
    "\n",
    "print(\"\\n--- Customer Flight Activity ---\")\n",
    "print(f\"Shape: {flight_activity.shape}\")\n",
    "print(flight_activity.head())\n",
    "\n",
    "print(\"\\n--- Calendar ---\")\n",
    "print(f\"Shape: {calendar.shape}\")\n",
    "print(calendar.head())"
   ]
  },
  {
   "cell_type": "markdown",
   "id": "a383a388",
   "metadata": {},
   "source": [
    "Data Preprocessing"
   ]
  },
  {
   "cell_type": "code",
   "execution_count": 4,
   "id": "5829f259",
   "metadata": {},
   "outputs": [
    {
     "name": "stdout",
     "output_type": "stream",
     "text": [
      "\n",
      "--- Missing Values ---\n",
      "Loyalty History:\n",
      "Loyalty Number            0\n",
      "Country                   0\n",
      "Province                  0\n",
      "City                      0\n",
      "Postal Code               0\n",
      "Gender                    0\n",
      "Education                 0\n",
      "Salary                 4238\n",
      "Marital Status            0\n",
      "Loyalty Card              0\n",
      "CLV                       0\n",
      "Enrollment Type           0\n",
      "Enrollment Year           0\n",
      "Enrollment Month          0\n",
      "Cancellation Year     14670\n",
      "Cancellation Month    14670\n",
      "dtype: int64\n",
      "\n",
      "Flight Activity:\n",
      "Loyalty Number                 0\n",
      "Year                           0\n",
      "Month                          0\n",
      "Total Flights                  0\n",
      "Distance                       0\n",
      "Points Accumulated             0\n",
      "Points Redeemed                0\n",
      "Dollar Cost Points Redeemed    0\n",
      "dtype: int64\n"
     ]
    }
   ],
   "source": [
    "# Check for missing values\n",
    "print(\"\\n--- Missing Values ---\")\n",
    "print(\"Loyalty History:\")\n",
    "print(loyalty_history.isnull().sum())\n",
    "print(\"\\nFlight Activity:\")\n",
    "print(flight_activity.isnull().sum())"
   ]
  },
  {
   "cell_type": "code",
   "execution_count": 5,
   "id": "2efd3d97",
   "metadata": {},
   "outputs": [
    {
     "name": "stdout",
     "output_type": "stream",
     "text": [
      "\n",
      "--- Unique Values in Categorical Variables ---\n",
      "Gender: ['Female' 'Male']\n",
      "Education: ['Bachelor' 'College' 'Master' 'High School or Below' 'Doctor']\n",
      "Marital Status: ['Married' 'Divorced' 'Single']\n",
      "Loyalty Card: ['Star' 'Aurora' 'Nova']\n",
      "Enrollment Type: ['Standard' '2018 Promotion']\n"
     ]
    }
   ],
   "source": [
    "# Fill missing values in Customer Loyalty History\n",
    "loyalty_history['Cancellation Year'].fillna(9999, inplace=True)  # 9999 means not cancelled\n",
    "loyalty_history['Cancellation Month'].fillna(0, inplace=True)\n",
    "\n",
    "# Check unique values of categorical variables\n",
    "print(\"\\n--- Unique Values in Categorical Variables ---\")\n",
    "print(f\"Gender: {loyalty_history['Gender'].unique()}\")\n",
    "print(f\"Education: {loyalty_history['Education'].unique()}\")\n",
    "print(f\"Marital Status: {loyalty_history['Marital Status'].unique()}\")\n",
    "print(f\"Loyalty Card: {loyalty_history['Loyalty Card'].unique()}\")\n",
    "print(f\"Enrollment Type: {loyalty_history['Enrollment Type'].unique()}\")"
   ]
  },
  {
   "cell_type": "code",
   "execution_count": null,
   "id": "166c0e5e",
   "metadata": {},
   "outputs": [],
   "source": []
  }
 ],
 "metadata": {
  "kernelspec": {
   "display_name": "Python 3 (ipykernel)",
   "language": "python",
   "name": "python3"
  },
  "language_info": {
   "codemirror_mode": {
    "name": "ipython",
    "version": 3
   },
   "file_extension": ".py",
   "mimetype": "text/x-python",
   "name": "python",
   "nbconvert_exporter": "python",
   "pygments_lexer": "ipython3",
   "version": "3.11.5"
  }
 },
 "nbformat": 4,
 "nbformat_minor": 5
}
